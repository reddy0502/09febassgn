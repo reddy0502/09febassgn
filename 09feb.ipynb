{
 "cells": [
  {
   "cell_type": "markdown",
   "id": "5fd1dd8b-3adc-4577-b795-4489440f36c1",
   "metadata": {},
   "source": [
    "1ans:"
   ]
  },
  {
   "cell_type": "code",
   "execution_count": 3,
   "id": "01c2e301-d80d-4e74-84d6-5723a8513e61",
   "metadata": {},
   "outputs": [],
   "source": [
    "class vehicle:\n",
    "    def __init__(self,name_of_vehicle, max_speed, average_of_vehicle):\n",
    "        self.name_of_vehicle=name_of_vehicle\n",
    "        self.max_speed=max_speed\n",
    "        self.average_of_vehicle=average_of_vehicle\n",
    "    def return_vehicle(self):\n",
    "        return self.name_of_vehicle, self.max_speed, self.average_of_vehicle\n",
    "        "
   ]
  },
  {
   "cell_type": "code",
   "execution_count": 4,
   "id": "b10c0f0d-1c15-4173-b2b0-8621f04ad491",
   "metadata": {},
   "outputs": [
    {
     "data": {
      "text/plain": [
       "('xyv', 100, 10000)"
      ]
     },
     "execution_count": 4,
     "metadata": {},
     "output_type": "execute_result"
    }
   ],
   "source": [
    "a=vehicle('xyv',100,10000)\n",
    "a.return_vehicle()"
   ]
  },
  {
   "cell_type": "markdown",
   "id": "fd1cfb94-c866-4e11-99cb-ff8fb61eb009",
   "metadata": {},
   "source": [
    "2ans:"
   ]
  },
  {
   "cell_type": "code",
   "execution_count": 5,
   "id": "87aa67bd-d088-41bf-be72-797e1a1cdec7",
   "metadata": {},
   "outputs": [],
   "source": [
    "class car(vehicle):\n",
    "    def __init__(self,name_of_vehicle, max_speed, average_of_vehicle,seating_capacity):\n",
    "        super().__init__(name_of_vehicle,max_speed,average_of_vehicle)\n",
    "        self.seating_capacity=seating_capacity\n",
    "    def return_sc_name(self):\n",
    "        return self.name_of_vehicle,self.seating_capacity"
   ]
  },
  {
   "cell_type": "code",
   "execution_count": 6,
   "id": "aad23501-1402-4e3d-9801-4b5f762df5d6",
   "metadata": {},
   "outputs": [
    {
     "data": {
      "text/plain": [
       "('xyv', 8)"
      ]
     },
     "execution_count": 6,
     "metadata": {},
     "output_type": "execute_result"
    }
   ],
   "source": [
    "c=car('xyv',130,10000,8)\n",
    "c.return_sc_name()"
   ]
  },
  {
   "cell_type": "markdown",
   "id": "8ae5ab48-c9e8-4de6-badc-8e985566e6d9",
   "metadata": {},
   "source": [
    "3ans:"
   ]
  },
  {
   "cell_type": "markdown",
   "id": "fedf47b0-6757-4351-b469-4eca82217a38",
   "metadata": {},
   "source": [
    "When a class is derived from more than one base class it is called multiple Inheritance. The derived class inherits all the features of the base case."
   ]
  },
  {
   "cell_type": "code",
   "execution_count": 10,
   "id": "80c3e13b-5cde-42df-8c1d-a59e0e8d9fa0",
   "metadata": {},
   "outputs": [],
   "source": [
    "class Class1:\n",
    "    def m(self):\n",
    "        print(\"In Class1\")"
   ]
  },
  {
   "cell_type": "code",
   "execution_count": 11,
   "id": "92ab0537-6ddd-492d-9292-9dbe3dc00436",
   "metadata": {},
   "outputs": [
    {
     "name": "stdout",
     "output_type": "stream",
     "text": [
      "In Class3\n"
     ]
    }
   ],
   "source": [
    "class Class2(Class1):\n",
    "    pass\n",
    " \n",
    "class Class3(Class1):\n",
    "    def m(self):\n",
    "        print(\"In Class3\")   \n",
    "      \n",
    "class Class4(Class2, Class3):\n",
    "    pass      \n",
    " \n",
    "obj = Class4()\n",
    "obj.m()"
   ]
  },
  {
   "cell_type": "markdown",
   "id": "b26d5b16-4da2-4f58-9e29-241322488d7d",
   "metadata": {},
   "source": [
    "4ans:"
   ]
  },
  {
   "cell_type": "markdown",
   "id": "ec36c100-79f3-428f-85b0-05cabc48d872",
   "metadata": {},
   "source": [
    "A getter is a method that retrieves the value of a private attribute in a class. It is used to encapsulate the attribute .\n",
    "A setter method, allows you to modify the value of a private or protected attribute in a class."
   ]
  },
  {
   "cell_type": "code",
   "execution_count": null,
   "id": "aed1c031-12c5-4951-b60c-e12b46ef298f",
   "metadata": {},
   "outputs": [],
   "source": [
    "class Geek:\n",
    "    def __init__(self, age = 0):\n",
    "         self.__age = age\n",
    "      \n",
    "    def get_age(self):\n",
    "        return self.__age\n",
    "      \n",
    "    def set_age(self, x):\n",
    "        self.__age = x\n",
    "  \n",
    "dev = Geek()\n",
    "dev.set_age(20)\n",
    "print(mani.get_age())"
   ]
  }
 ],
 "metadata": {
  "kernelspec": {
   "display_name": "Python 3 (ipykernel)",
   "language": "python",
   "name": "python3"
  },
  "language_info": {
   "codemirror_mode": {
    "name": "ipython",
    "version": 3
   },
   "file_extension": ".py",
   "mimetype": "text/x-python",
   "name": "python",
   "nbconvert_exporter": "python",
   "pygments_lexer": "ipython3",
   "version": "3.10.8"
  }
 },
 "nbformat": 4,
 "nbformat_minor": 5
}
